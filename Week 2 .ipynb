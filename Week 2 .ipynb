{
 "cells": [
  {
   "cell_type": "code",
   "execution_count": 1,
   "id": "9a057690",
   "metadata": {},
   "outputs": [
    {
     "name": "stdout",
     "output_type": "stream",
     "text": [
      "Original Tuple:\n",
      "(4, 3, 2, 2, -1, 18)\n",
      "Product - multiplying all the numbers of the said tuple: -864\n",
      "\n",
      "Original Tuple:\n",
      "(2, 4, 8, 8, 3, 2, 9)\n",
      "Product - multiplying all the numbers of the said tuple: 27648\n"
     ]
    }
   ],
   "source": [
    "def calculate_product(numbers_tuple):\n",
    "    product = 1\n",
    "    for num in numbers_tuple:\n",
    "        product *= num\n",
    "    return product\n",
    "\n",
    "tuple1 = (4, 3, 2, 2, -1, 18)\n",
    "print(\"Original Tuple:\")\n",
    "print(tuple1)\n",
    "print(\"Product - multiplying all the numbers of the said tuple:\", calculate_product(tuple1))\n",
    "\n",
    "tuple2 = (2, 4, 8, 8, 3, 2, 9)\n",
    "print(\"\\nOriginal Tuple:\")\n",
    "print(tuple2)\n",
    "print(\"Product - multiplying all the numbers of the said tuple:\", calculate_product(tuple2))"
   ]
  },
  {
   "cell_type": "code",
   "execution_count": 2,
   "id": "0c1675e7",
   "metadata": {},
   "outputs": [
    {
     "name": "stdout",
     "output_type": "stream",
     "text": [
      "Original Tuple:\n",
      "((10, 10, 10, 12), (30, 45, 56, 45), (81, 80, 39, 32), (1, 2, 3, 4))\n",
      "Average value of the numbers of the said tuple of tuples:\n",
      "[30.5, 34.25, 27.0, 23.25]\n",
      "\n",
      "Original Tuple:\n",
      "((1, 1, -5), (30, -15, 56), (81, -60, -39), (-10, 2, 3))\n",
      "Average value of the numbers of the said tuple of tuples:\n",
      "[25.5, -18.0, 3.75]\n"
     ]
    }
   ],
   "source": [
    "def calculate_average(tuple_of_tuples):\n",
    "    averages = []\n",
    "    for i in range(len(tuple_of_tuples[0])):\n",
    "        total = 0\n",
    "        for tup in tuple_of_tuples:\n",
    "            total += tup[i]\n",
    "        averages.append(total / len(tuple_of_tuples))\n",
    "    return averages\n",
    "\n",
    "tuple1 = ((10, 10, 10, 12), (30, 45, 56, 45), (81, 80, 39, 32), (1, 2, 3, 4))\n",
    "print(\"Original Tuple:\")\n",
    "print(tuple1)\n",
    "print(\"Average value of the numbers of the said tuple of tuples:\")\n",
    "print(calculate_average(tuple1))\n",
    "\n",
    "tuple2 = ((1, 1, -5), (30, -15, 56), (81, -60, -39), (-10, 2, 3))\n",
    "print(\"\\nOriginal Tuple:\")\n",
    "print(tuple2)\n",
    "print(\"Average value of the numbers of the said tuple of tuples:\")\n",
    "print(calculate_average(tuple2))"
   ]
  },
  {
   "cell_type": "code",
   "execution_count": null,
   "id": "dd9965be",
   "metadata": {},
   "outputs": [],
   "source": []
  }
 ],
 "metadata": {
  "kernelspec": {
   "display_name": "Python 3 (ipykernel)",
   "language": "python",
   "name": "python3"
  },
  "language_info": {
   "codemirror_mode": {
    "name": "ipython",
    "version": 3
   },
   "file_extension": ".py",
   "mimetype": "text/x-python",
   "name": "python",
   "nbconvert_exporter": "python",
   "pygments_lexer": "ipython3",
   "version": "3.9.12"
  }
 },
 "nbformat": 4,
 "nbformat_minor": 5
}
